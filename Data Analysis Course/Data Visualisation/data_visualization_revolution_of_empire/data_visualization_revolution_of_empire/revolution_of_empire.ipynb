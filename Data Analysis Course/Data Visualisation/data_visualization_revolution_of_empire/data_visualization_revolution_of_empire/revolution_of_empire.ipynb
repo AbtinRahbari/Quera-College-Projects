{
 "cells": [
  {
   "cell_type": "code",
   "execution_count": 1,
   "metadata": {},
   "outputs": [
    {
     "name": "stdout",
     "output_type": "stream",
     "text": [
      "Requirement already satisfied: numpy==2.1.3 in c:\\program files\\python313\\lib\\site-packages (from -r requirements.txt (line 1)) (2.1.3)Note: you may need to restart the kernel to use updated packages.\n",
      "\n",
      "Requirement already satisfied: pandas in c:\\users\\abtin rahbari\\appdata\\roaming\\python\\python313\\site-packages (from -r requirements.txt (line 2)) (2.2.3)\n",
      "Requirement already satisfied: matplotlib==3.9.2 in c:\\program files\\python313\\lib\\site-packages (from -r requirements.txt (line 3)) (3.9.2)\n",
      "Requirement already satisfied: seaborn in c:\\program files\\python313\\lib\\site-packages (from -r requirements.txt (line 4)) (0.13.2)\n",
      "Requirement already satisfied: joblib in c:\\program files\\python313\\lib\\site-packages (from -r requirements.txt (line 5)) (1.4.2)\n",
      "Requirement already satisfied: scipy in c:\\users\\abtin rahbari\\appdata\\roaming\\python\\python313\\site-packages (from -r requirements.txt (line 6)) (1.15.1)\n",
      "Requirement already satisfied: jupyter in c:\\program files\\python313\\lib\\site-packages (from -r requirements.txt (line 7)) (1.1.1)\n",
      "Requirement already satisfied: jupyterlab in c:\\program files\\python313\\lib\\site-packages (from -r requirements.txt (line 8)) (4.3.5)\n",
      "Requirement already satisfied: contourpy>=1.0.1 in c:\\program files\\python313\\lib\\site-packages (from matplotlib==3.9.2->-r requirements.txt (line 3)) (1.3.1)\n",
      "Requirement already satisfied: cycler>=0.10 in c:\\program files\\python313\\lib\\site-packages (from matplotlib==3.9.2->-r requirements.txt (line 3)) (0.12.1)\n",
      "Requirement already satisfied: fonttools>=4.22.0 in c:\\program files\\python313\\lib\\site-packages (from matplotlib==3.9.2->-r requirements.txt (line 3)) (4.55.3)\n",
      "Requirement already satisfied: kiwisolver>=1.3.1 in c:\\program files\\python313\\lib\\site-packages (from matplotlib==3.9.2->-r requirements.txt (line 3)) (1.4.8)\n",
      "Requirement already satisfied: packaging>=20.0 in c:\\users\\abtin rahbari\\appdata\\roaming\\python\\python313\\site-packages (from matplotlib==3.9.2->-r requirements.txt (line 3)) (24.2)\n",
      "Requirement already satisfied: pillow>=8 in c:\\program files\\python313\\lib\\site-packages (from matplotlib==3.9.2->-r requirements.txt (line 3)) (11.1.0)\n",
      "Requirement already satisfied: pyparsing>=2.3.1 in c:\\program files\\python313\\lib\\site-packages (from matplotlib==3.9.2->-r requirements.txt (line 3)) (3.2.1)\n",
      "Requirement already satisfied: python-dateutil>=2.7 in c:\\users\\abtin rahbari\\appdata\\roaming\\python\\python313\\site-packages (from matplotlib==3.9.2->-r requirements.txt (line 3)) (2.9.0.post0)\n",
      "Requirement already satisfied: pytz>=2020.1 in c:\\users\\abtin rahbari\\appdata\\roaming\\python\\python313\\site-packages (from pandas->-r requirements.txt (line 2)) (2024.2)\n",
      "Requirement already satisfied: tzdata>=2022.7 in c:\\users\\abtin rahbari\\appdata\\roaming\\python\\python313\\site-packages (from pandas->-r requirements.txt (line 2)) (2024.2)\n",
      "Requirement already satisfied: notebook in c:\\program files\\python313\\lib\\site-packages (from jupyter->-r requirements.txt (line 7)) (7.3.2)\n",
      "Requirement already satisfied: jupyter-console in c:\\program files\\python313\\lib\\site-packages (from jupyter->-r requirements.txt (line 7)) (6.6.3)\n",
      "Requirement already satisfied: nbconvert in c:\\program files\\python313\\lib\\site-packages (from jupyter->-r requirements.txt (line 7)) (7.16.6)\n",
      "Requirement already satisfied: ipykernel in c:\\users\\abtin rahbari\\appdata\\roaming\\python\\python313\\site-packages (from jupyter->-r requirements.txt (line 7)) (6.29.5)\n",
      "Requirement already satisfied: ipywidgets in c:\\program files\\python313\\lib\\site-packages (from jupyter->-r requirements.txt (line 7)) (8.1.5)\n",
      "Requirement already satisfied: async-lru>=1.0.0 in c:\\program files\\python313\\lib\\site-packages (from jupyterlab->-r requirements.txt (line 8)) (2.0.4)\n",
      "Requirement already satisfied: httpx>=0.25.0 in c:\\program files\\python313\\lib\\site-packages (from jupyterlab->-r requirements.txt (line 8)) (0.28.1)\n",
      "Requirement already satisfied: jinja2>=3.0.3 in c:\\program files\\python313\\lib\\site-packages (from jupyterlab->-r requirements.txt (line 8)) (3.1.5)\n",
      "Requirement already satisfied: jupyter-core in c:\\users\\abtin rahbari\\appdata\\roaming\\python\\python313\\site-packages (from jupyterlab->-r requirements.txt (line 8)) (5.7.2)\n",
      "Requirement already satisfied: jupyter-lsp>=2.0.0 in c:\\program files\\python313\\lib\\site-packages (from jupyterlab->-r requirements.txt (line 8)) (2.2.5)\n",
      "Requirement already satisfied: jupyter-server<3,>=2.4.0 in c:\\program files\\python313\\lib\\site-packages (from jupyterlab->-r requirements.txt (line 8)) (2.15.0)\n",
      "Requirement already satisfied: jupyterlab-server<3,>=2.27.1 in c:\\program files\\python313\\lib\\site-packages (from jupyterlab->-r requirements.txt (line 8)) (2.27.3)\n",
      "Requirement already satisfied: notebook-shim>=0.2 in c:\\program files\\python313\\lib\\site-packages (from jupyterlab->-r requirements.txt (line 8)) (0.2.4)\n",
      "Requirement already satisfied: setuptools>=40.8.0 in c:\\program files\\python313\\lib\\site-packages (from jupyterlab->-r requirements.txt (line 8)) (75.8.0)\n",
      "Requirement already satisfied: tornado>=6.2.0 in c:\\users\\abtin rahbari\\appdata\\roaming\\python\\python313\\site-packages (from jupyterlab->-r requirements.txt (line 8)) (6.4.2)\n",
      "Requirement already satisfied: traitlets in c:\\users\\abtin rahbari\\appdata\\roaming\\python\\python313\\site-packages (from jupyterlab->-r requirements.txt (line 8)) (5.14.3)\n",
      "Requirement already satisfied: anyio in c:\\program files\\python313\\lib\\site-packages (from httpx>=0.25.0->jupyterlab->-r requirements.txt (line 8)) (4.8.0)\n",
      "Requirement already satisfied: certifi in c:\\program files\\python313\\lib\\site-packages (from httpx>=0.25.0->jupyterlab->-r requirements.txt (line 8)) (2025.1.31)\n",
      "Requirement already satisfied: httpcore==1.* in c:\\program files\\python313\\lib\\site-packages (from httpx>=0.25.0->jupyterlab->-r requirements.txt (line 8)) (1.0.7)\n",
      "Requirement already satisfied: idna in c:\\program files\\python313\\lib\\site-packages (from httpx>=0.25.0->jupyterlab->-r requirements.txt (line 8)) (3.10)\n",
      "Requirement already satisfied: h11<0.15,>=0.13 in c:\\program files\\python313\\lib\\site-packages (from httpcore==1.*->httpx>=0.25.0->jupyterlab->-r requirements.txt (line 8)) (0.14.0)\n",
      "Requirement already satisfied: comm>=0.1.1 in c:\\users\\abtin rahbari\\appdata\\roaming\\python\\python313\\site-packages (from ipykernel->jupyter->-r requirements.txt (line 7)) (0.2.2)\n",
      "Requirement already satisfied: debugpy>=1.6.5 in c:\\users\\abtin rahbari\\appdata\\roaming\\python\\python313\\site-packages (from ipykernel->jupyter->-r requirements.txt (line 7)) (1.8.11)\n",
      "Requirement already satisfied: ipython>=7.23.1 in c:\\users\\abtin rahbari\\appdata\\roaming\\python\\python313\\site-packages (from ipykernel->jupyter->-r requirements.txt (line 7)) (8.31.0)\n",
      "Requirement already satisfied: jupyter-client>=6.1.12 in c:\\users\\abtin rahbari\\appdata\\roaming\\python\\python313\\site-packages (from ipykernel->jupyter->-r requirements.txt (line 7)) (8.6.3)\n",
      "Requirement already satisfied: matplotlib-inline>=0.1 in c:\\users\\abtin rahbari\\appdata\\roaming\\python\\python313\\site-packages (from ipykernel->jupyter->-r requirements.txt (line 7)) (0.1.7)\n",
      "Requirement already satisfied: nest-asyncio in c:\\users\\abtin rahbari\\appdata\\roaming\\python\\python313\\site-packages (from ipykernel->jupyter->-r requirements.txt (line 7)) (1.6.0)\n",
      "Requirement already satisfied: psutil in c:\\users\\abtin rahbari\\appdata\\roaming\\python\\python313\\site-packages (from ipykernel->jupyter->-r requirements.txt (line 7)) (6.1.1)\n",
      "Requirement already satisfied: pyzmq>=24 in c:\\users\\abtin rahbari\\appdata\\roaming\\python\\python313\\site-packages (from ipykernel->jupyter->-r requirements.txt (line 7)) (26.2.0)\n",
      "Requirement already satisfied: MarkupSafe>=2.0 in c:\\program files\\python313\\lib\\site-packages (from jinja2>=3.0.3->jupyterlab->-r requirements.txt (line 8)) (3.0.2)\n",
      "Requirement already satisfied: platformdirs>=2.5 in c:\\users\\abtin rahbari\\appdata\\roaming\\python\\python313\\site-packages (from jupyter-core->jupyterlab->-r requirements.txt (line 8)) (4.3.6)\n",
      "Requirement already satisfied: pywin32>=300 in c:\\users\\abtin rahbari\\appdata\\roaming\\python\\python313\\site-packages (from jupyter-core->jupyterlab->-r requirements.txt (line 8)) (308)\n",
      "Requirement already satisfied: argon2-cffi>=21.1 in c:\\program files\\python313\\lib\\site-packages (from jupyter-server<3,>=2.4.0->jupyterlab->-r requirements.txt (line 8)) (23.1.0)\n",
      "Requirement already satisfied: jupyter-events>=0.11.0 in c:\\program files\\python313\\lib\\site-packages (from jupyter-server<3,>=2.4.0->jupyterlab->-r requirements.txt (line 8)) (0.12.0)\n",
      "Requirement already satisfied: jupyter-server-terminals>=0.4.4 in c:\\program files\\python313\\lib\\site-packages (from jupyter-server<3,>=2.4.0->jupyterlab->-r requirements.txt (line 8)) (0.5.3)\n",
      "Requirement already satisfied: nbformat>=5.3.0 in c:\\program files\\python313\\lib\\site-packages (from jupyter-server<3,>=2.4.0->jupyterlab->-r requirements.txt (line 8)) (5.10.4)\n",
      "Requirement already satisfied: overrides>=5.0 in c:\\program files\\python313\\lib\\site-packages (from jupyter-server<3,>=2.4.0->jupyterlab->-r requirements.txt (line 8)) (7.7.0)\n",
      "Requirement already satisfied: prometheus-client>=0.9 in c:\\program files\\python313\\lib\\site-packages (from jupyter-server<3,>=2.4.0->jupyterlab->-r requirements.txt (line 8)) (0.21.1)\n",
      "Requirement already satisfied: pywinpty>=2.0.1 in c:\\program files\\python313\\lib\\site-packages (from jupyter-server<3,>=2.4.0->jupyterlab->-r requirements.txt (line 8)) (2.0.15)\n",
      "Requirement already satisfied: send2trash>=1.8.2 in c:\\program files\\python313\\lib\\site-packages (from jupyter-server<3,>=2.4.0->jupyterlab->-r requirements.txt (line 8)) (1.8.3)\n",
      "Requirement already satisfied: terminado>=0.8.3 in c:\\program files\\python313\\lib\\site-packages (from jupyter-server<3,>=2.4.0->jupyterlab->-r requirements.txt (line 8)) (0.18.1)\n",
      "Requirement already satisfied: websocket-client>=1.7 in c:\\program files\\python313\\lib\\site-packages (from jupyter-server<3,>=2.4.0->jupyterlab->-r requirements.txt (line 8)) (1.8.0)\n",
      "Requirement already satisfied: babel>=2.10 in c:\\program files\\python313\\lib\\site-packages (from jupyterlab-server<3,>=2.27.1->jupyterlab->-r requirements.txt (line 8)) (2.17.0)\n",
      "Requirement already satisfied: json5>=0.9.0 in c:\\program files\\python313\\lib\\site-packages (from jupyterlab-server<3,>=2.27.1->jupyterlab->-r requirements.txt (line 8)) (0.10.0)\n",
      "Requirement already satisfied: jsonschema>=4.18.0 in c:\\program files\\python313\\lib\\site-packages (from jupyterlab-server<3,>=2.27.1->jupyterlab->-r requirements.txt (line 8)) (4.23.0)\n",
      "Requirement already satisfied: requests>=2.31 in c:\\program files\\python313\\lib\\site-packages (from jupyterlab-server<3,>=2.27.1->jupyterlab->-r requirements.txt (line 8)) (2.32.3)\n",
      "Requirement already satisfied: beautifulsoup4 in c:\\program files\\python313\\lib\\site-packages (from nbconvert->jupyter->-r requirements.txt (line 7)) (4.13.3)\n",
      "Requirement already satisfied: bleach!=5.0.0 in c:\\program files\\python313\\lib\\site-packages (from bleach[css]!=5.0.0->nbconvert->jupyter->-r requirements.txt (line 7)) (6.2.0)\n",
      "Requirement already satisfied: defusedxml in c:\\program files\\python313\\lib\\site-packages (from nbconvert->jupyter->-r requirements.txt (line 7)) (0.7.1)\n",
      "Requirement already satisfied: jupyterlab-pygments in c:\\program files\\python313\\lib\\site-packages (from nbconvert->jupyter->-r requirements.txt (line 7)) (0.3.0)\n",
      "Requirement already satisfied: mistune<4,>=2.0.3 in c:\\program files\\python313\\lib\\site-packages (from nbconvert->jupyter->-r requirements.txt (line 7)) (3.1.1)\n",
      "Requirement already satisfied: nbclient>=0.5.0 in c:\\program files\\python313\\lib\\site-packages (from nbconvert->jupyter->-r requirements.txt (line 7)) (0.10.2)\n",
      "Requirement already satisfied: pandocfilters>=1.4.1 in c:\\program files\\python313\\lib\\site-packages (from nbconvert->jupyter->-r requirements.txt (line 7)) (1.5.1)\n",
      "Requirement already satisfied: pygments>=2.4.1 in c:\\users\\abtin rahbari\\appdata\\roaming\\python\\python313\\site-packages (from nbconvert->jupyter->-r requirements.txt (line 7)) (2.18.0)\n",
      "Requirement already satisfied: six>=1.5 in c:\\users\\abtin rahbari\\appdata\\roaming\\python\\python313\\site-packages (from python-dateutil>=2.7->matplotlib==3.9.2->-r requirements.txt (line 3)) (1.17.0)\n",
      "Requirement already satisfied: widgetsnbextension~=4.0.12 in c:\\program files\\python313\\lib\\site-packages (from ipywidgets->jupyter->-r requirements.txt (line 7)) (4.0.13)\n",
      "Requirement already satisfied: jupyterlab-widgets~=3.0.12 in c:\\program files\\python313\\lib\\site-packages (from ipywidgets->jupyter->-r requirements.txt (line 7)) (3.0.13)\n",
      "Requirement already satisfied: prompt-toolkit>=3.0.30 in c:\\users\\abtin rahbari\\appdata\\roaming\\python\\python313\\site-packages (from jupyter-console->jupyter->-r requirements.txt (line 7)) (3.0.48)\n",
      "Requirement already satisfied: sniffio>=1.1 in c:\\program files\\python313\\lib\\site-packages (from anyio->httpx>=0.25.0->jupyterlab->-r requirements.txt (line 8)) (1.3.1)\n",
      "Requirement already satisfied: argon2-cffi-bindings in c:\\program files\\python313\\lib\\site-packages (from argon2-cffi>=21.1->jupyter-server<3,>=2.4.0->jupyterlab->-r requirements.txt (line 8)) (21.2.0)\n",
      "Requirement already satisfied: webencodings in c:\\program files\\python313\\lib\\site-packages (from bleach!=5.0.0->bleach[css]!=5.0.0->nbconvert->jupyter->-r requirements.txt (line 7)) (0.5.1)\n",
      "Requirement already satisfied: tinycss2<1.5,>=1.1.0 in c:\\program files\\python313\\lib\\site-packages (from bleach[css]!=5.0.0->nbconvert->jupyter->-r requirements.txt (line 7)) (1.4.0)\n",
      "Requirement already satisfied: colorama in c:\\users\\abtin rahbari\\appdata\\roaming\\python\\python313\\site-packages (from ipython>=7.23.1->ipykernel->jupyter->-r requirements.txt (line 7)) (0.4.6)\n",
      "Requirement already satisfied: decorator in c:\\users\\abtin rahbari\\appdata\\roaming\\python\\python313\\site-packages (from ipython>=7.23.1->ipykernel->jupyter->-r requirements.txt (line 7)) (5.1.1)\n",
      "Requirement already satisfied: jedi>=0.16 in c:\\users\\abtin rahbari\\appdata\\roaming\\python\\python313\\site-packages (from ipython>=7.23.1->ipykernel->jupyter->-r requirements.txt (line 7)) (0.19.2)\n",
      "Requirement already satisfied: stack_data in c:\\users\\abtin rahbari\\appdata\\roaming\\python\\python313\\site-packages (from ipython>=7.23.1->ipykernel->jupyter->-r requirements.txt (line 7)) (0.6.3)\n",
      "Requirement already satisfied: attrs>=22.2.0 in c:\\program files\\python313\\lib\\site-packages (from jsonschema>=4.18.0->jupyterlab-server<3,>=2.27.1->jupyterlab->-r requirements.txt (line 8)) (25.1.0)\n",
      "Requirement already satisfied: jsonschema-specifications>=2023.03.6 in c:\\program files\\python313\\lib\\site-packages (from jsonschema>=4.18.0->jupyterlab-server<3,>=2.27.1->jupyterlab->-r requirements.txt (line 8)) (2024.10.1)\n",
      "Requirement already satisfied: referencing>=0.28.4 in c:\\program files\\python313\\lib\\site-packages (from jsonschema>=4.18.0->jupyterlab-server<3,>=2.27.1->jupyterlab->-r requirements.txt (line 8)) (0.36.2)\n",
      "Requirement already satisfied: rpds-py>=0.7.1 in c:\\program files\\python313\\lib\\site-packages (from jsonschema>=4.18.0->jupyterlab-server<3,>=2.27.1->jupyterlab->-r requirements.txt (line 8)) (0.22.3)\n",
      "Requirement already satisfied: python-json-logger>=2.0.4 in c:\\program files\\python313\\lib\\site-packages (from jupyter-events>=0.11.0->jupyter-server<3,>=2.4.0->jupyterlab->-r requirements.txt (line 8)) (3.2.1)\n",
      "Requirement already satisfied: pyyaml>=5.3 in c:\\program files\\python313\\lib\\site-packages (from jupyter-events>=0.11.0->jupyter-server<3,>=2.4.0->jupyterlab->-r requirements.txt (line 8)) (6.0.2)\n",
      "Requirement already satisfied: rfc3339-validator in c:\\program files\\python313\\lib\\site-packages (from jupyter-events>=0.11.0->jupyter-server<3,>=2.4.0->jupyterlab->-r requirements.txt (line 8)) (0.1.4)\n",
      "Requirement already satisfied: rfc3986-validator>=0.1.1 in c:\\program files\\python313\\lib\\site-packages (from jupyter-events>=0.11.0->jupyter-server<3,>=2.4.0->jupyterlab->-r requirements.txt (line 8)) (0.1.1)\n",
      "Requirement already satisfied: fastjsonschema>=2.15 in c:\\program files\\python313\\lib\\site-packages (from nbformat>=5.3.0->jupyter-server<3,>=2.4.0->jupyterlab->-r requirements.txt (line 8)) (2.21.1)\n",
      "Requirement already satisfied: wcwidth in c:\\users\\abtin rahbari\\appdata\\roaming\\python\\python313\\site-packages (from prompt-toolkit>=3.0.30->jupyter-console->jupyter->-r requirements.txt (line 7)) (0.2.13)\n",
      "Requirement already satisfied: charset-normalizer<4,>=2 in c:\\program files\\python313\\lib\\site-packages (from requests>=2.31->jupyterlab-server<3,>=2.27.1->jupyterlab->-r requirements.txt (line 8)) (3.4.1)\n",
      "Requirement already satisfied: urllib3<3,>=1.21.1 in c:\\program files\\python313\\lib\\site-packages (from requests>=2.31->jupyterlab-server<3,>=2.27.1->jupyterlab->-r requirements.txt (line 8)) (2.3.0)\n",
      "Requirement already satisfied: soupsieve>1.2 in c:\\program files\\python313\\lib\\site-packages (from beautifulsoup4->nbconvert->jupyter->-r requirements.txt (line 7)) (2.6)\n",
      "Requirement already satisfied: typing-extensions>=4.0.0 in c:\\program files\\python313\\lib\\site-packages (from beautifulsoup4->nbconvert->jupyter->-r requirements.txt (line 7)) (4.12.2)\n",
      "Requirement already satisfied: parso<0.9.0,>=0.8.4 in c:\\users\\abtin rahbari\\appdata\\roaming\\python\\python313\\site-packages (from jedi>=0.16->ipython>=7.23.1->ipykernel->jupyter->-r requirements.txt (line 7)) (0.8.4)\n",
      "Requirement already satisfied: fqdn in c:\\program files\\python313\\lib\\site-packages (from jsonschema[format-nongpl]>=4.18.0->jupyter-events>=0.11.0->jupyter-server<3,>=2.4.0->jupyterlab->-r requirements.txt (line 8)) (1.5.1)\n",
      "Requirement already satisfied: isoduration in c:\\program files\\python313\\lib\\site-packages (from jsonschema[format-nongpl]>=4.18.0->jupyter-events>=0.11.0->jupyter-server<3,>=2.4.0->jupyterlab->-r requirements.txt (line 8)) (20.11.0)\n",
      "Requirement already satisfied: jsonpointer>1.13 in c:\\program files\\python313\\lib\\site-packages (from jsonschema[format-nongpl]>=4.18.0->jupyter-events>=0.11.0->jupyter-server<3,>=2.4.0->jupyterlab->-r requirements.txt (line 8)) (3.0.0)\n",
      "Requirement already satisfied: uri-template in c:\\program files\\python313\\lib\\site-packages (from jsonschema[format-nongpl]>=4.18.0->jupyter-events>=0.11.0->jupyter-server<3,>=2.4.0->jupyterlab->-r requirements.txt (line 8)) (1.3.0)\n",
      "Requirement already satisfied: webcolors>=24.6.0 in c:\\program files\\python313\\lib\\site-packages (from jsonschema[format-nongpl]>=4.18.0->jupyter-events>=0.11.0->jupyter-server<3,>=2.4.0->jupyterlab->-r requirements.txt (line 8)) (24.11.1)\n",
      "Requirement already satisfied: cffi>=1.0.1 in c:\\program files\\python313\\lib\\site-packages (from argon2-cffi-bindings->argon2-cffi>=21.1->jupyter-server<3,>=2.4.0->jupyterlab->-r requirements.txt (line 8)) (1.17.1)\n",
      "Requirement already satisfied: executing>=1.2.0 in c:\\users\\abtin rahbari\\appdata\\roaming\\python\\python313\\site-packages (from stack_data->ipython>=7.23.1->ipykernel->jupyter->-r requirements.txt (line 7)) (2.1.0)\n",
      "Requirement already satisfied: asttokens>=2.1.0 in c:\\users\\abtin rahbari\\appdata\\roaming\\python\\python313\\site-packages (from stack_data->ipython>=7.23.1->ipykernel->jupyter->-r requirements.txt (line 7)) (3.0.0)\n",
      "Requirement already satisfied: pure-eval in c:\\users\\abtin rahbari\\appdata\\roaming\\python\\python313\\site-packages (from stack_data->ipython>=7.23.1->ipykernel->jupyter->-r requirements.txt (line 7)) (0.2.3)\n",
      "Requirement already satisfied: pycparser in c:\\program files\\python313\\lib\\site-packages (from cffi>=1.0.1->argon2-cffi-bindings->argon2-cffi>=21.1->jupyter-server<3,>=2.4.0->jupyterlab->-r requirements.txt (line 8)) (2.22)\n",
      "Requirement already satisfied: arrow>=0.15.0 in c:\\program files\\python313\\lib\\site-packages (from isoduration->jsonschema[format-nongpl]>=4.18.0->jupyter-events>=0.11.0->jupyter-server<3,>=2.4.0->jupyterlab->-r requirements.txt (line 8)) (1.3.0)\n",
      "Requirement already satisfied: types-python-dateutil>=2.8.10 in c:\\program files\\python313\\lib\\site-packages (from arrow>=0.15.0->isoduration->jsonschema[format-nongpl]>=4.18.0->jupyter-events>=0.11.0->jupyter-server<3,>=2.4.0->jupyterlab->-r requirements.txt (line 8)) (2.9.0.20241206)\n"
     ]
    }
   ],
   "source": [
    "pip install -r requirements.txt"
   ]
  },
  {
   "attachments": {},
   "cell_type": "markdown",
   "metadata": {},
   "source": [
    "<h1 align=center style=\"line-height:200%;font-family:vazir;color:#0099cc\">\n",
    "<font face=\"vazirmatn\" color=\"#0099cc\">\n",
    "انقلاب امپراطوری\n",
    "</font>\n",
    "</h1>"
   ]
  },
  {
   "attachments": {},
   "cell_type": "markdown",
   "metadata": {},
   "source": [
    "<p dir=rtl style=\"direction: rtl;text-align: justify;line-height:200%;font-family:vazir;font-size:medium\">\n",
    "<font face=\"vazirmatn\" size=3>\n",
    "پس از آزمایش مدیر شرکت، کارمندان عزم‌شان را جزم کردند تا وضع شرکت را بهتر کنند. مدیر نیز تصمیم گرفت که فروش هفتگی هر کارمند را روی نموداری میله‌ای نشان دهد تا حس رقابت بین آن‌ها تقویت شود.\n",
    "</font> \n",
    "</p>"
   ]
  },
  {
   "attachments": {},
   "cell_type": "markdown",
   "metadata": {},
   "source": [
    "<h2 align=right style=\"line-height:200%;font-family:vazir;color:#0099cc\">\n",
    "<font face=\"vazirmatn\" color=\"#0099cc\">\n",
    "رسم نمودار\n",
    "</font>\n",
    "</h2>\n",
    "<p dir=rtl style=\"direction: rtl;text-align: justify;line-height:200%;font-family:vazir;font-size:medium\">\n",
    "<font face=\"vazirmatn\" size=3>\n",
    "برای رسم نمودار، عملیات زیر را انجام دهید:\n",
    "\n",
    "<ul dir =rtl style=\"direction: rtl;text-align: justify;line-height:200%;font-family:vazir;font-size:medium\">\n",
    "  <li>\n",
    "یک شکل شامل یک صفحه‌محور بسازید و طول و عرض شکل را برابر ۸ اینچ قرار دهید.\n",
    "</li>\n",
    "\n",
    "  <li>\n",
    "در جدول زیر، تعداد محصولی که هر کارمند فروخته، آمده است. با استفاده از مت‌پلات، نمودار میله‌ای این اطلاعات را رسم کنید. نمودار را بر اساس میزان فروش مرتب کنبد به طوری که بهترین کارمند در سمت چپ نمودار و بدترین کارمند در سمت راست نمودار قرار بگیرد.\n",
    "  <li>\n",
    "رنگ میله‌ها را صورتی <code>pink</code> قرار دهید.\n",
    "  <li>\n",
    "عرض میله‌ها را برابر ۰.۶ اینچ قرار دهید. \n",
    "<li>\n",
    "\n",
    "عنوان محور عمودی را برابر <code>count</code> قرار دهید.\n",
    "</li>\n",
    "\n",
    "</ul>\n",
    "</font>\n",
    "</p>\n",
    "\n"
   ]
  },
  {
   "cell_type": "markdown",
   "metadata": {},
   "source": [
    "<p dir=rtl style=\"direction: rtl;text-align: right;line-height:200%;font-family:vazir;font-size:medium\">\n",
    "<table dir=rtl align = center>\n",
    "\n",
    "<tr>\n",
    "<th><font face=\"vazirmatn\" size=3>حمزه</th>\n",
    "<th><font face=\"vazirmatn\" size=3>دنا</th>\n",
    "<th><font face=\"vazirmatn\" size=3>مصیب</th>\n",
    "<th><font face=\"vazirmatn\" size=3>عرفان</th>\n",
    "<th><font face=\"vazirmatn\" size=3>سارا</th>\n",
    "<th><font face=\"vazirmatn\" size=3>ملیحه</th>\n",
    "\n",
    "\n",
    "</tr>\n",
    "\n",
    "\n",
    "<tr>\n",
    "<td><font face=\"vazirmatn\" size=3>۳۲۰۰</td>\n",
    "<td><font face=\"vazirmatn\" size=3>۲۷۹۸</td>\n",
    "<td><font face=\"vazirmatn\" size=3>۵۰</td>\n",
    "<th><font face=\"vazirmatn\" size=3>۲۷۱۳</th>\n",
    "<th><font face=\"vazirmatn\" size=3>۲۸۸۰</th>\n",
    "<th><font face=\"vazirmatn\" size=3>۲۵۰۲</th>\n",
    "</tr>\n",
    "\n",
    "</table>\n",
    "</p>\n"
   ]
  },
  {
   "attachments": {},
   "cell_type": "markdown",
   "metadata": {},
   "source": [
    "<p dir=rtl style=\"direction: rtl;text-align: justify;line-height:200%;font-family:vazir;font-size:medium\">\n",
    "<font face=\"vazirmatn\" size=3>\n",
    "معادل انگلیسی نام‌ها برای استفاده در مت‌پلات را در زیر مشاهده می‌کنید:\n",
    "</font>\n",
    "</p>\n"
   ]
  },
  {
   "cell_type": "markdown",
   "metadata": {},
   "source": [
    "<p dir=rtl style=\"direction: rtl;text-align: right;line-height:200%;font-family:vazir;font-size:medium\">\n",
    "<table dir=rtl align = center>\n",
    "\n",
    "<tr>\n",
    "<th><font face=\"vazirmatn\" size=3>حمزه</th>\n",
    "<th><font face=\"vazirmatn\" size=3>دنا</th>\n",
    "<th><font face=\"vazirmatn\" size=3>مصیب</th>\n",
    "<th><font face=\"vazirmatn\" size=3>عرفان</th>\n",
    "<th><font face=\"vazirmatn\" size=3>سارا</th>\n",
    "<th><font face=\"vazirmatn\" size=3>ملیحه</th>\n",
    "\n",
    "</tr>\n",
    "\n",
    "<tr>\n",
    "<td><font face=\"vazirmatn\" size=3>hamze</td>\n",
    "<td><font face=\"vazirmatn\" size=3>dena</td>\n",
    "<td><font face=\"vazirmatn\" size=3>mosayeb</td>\n",
    "<th><font face=\"vazirmatn\" size=3>erfan</th>\n",
    "<th><font face=\"vazirmatn\" size=3>sara</th>\n",
    "<th><font face=\"vazirmatn\" size=3>malihe</th>\n",
    "</tr>\n",
    "\n",
    "</table>\n",
    "</p>"
   ]
  },
  {
   "cell_type": "code",
   "execution_count": 2,
   "metadata": {},
   "outputs": [],
   "source": [
    "import matplotlib.pyplot as plt\n",
    "import pandas as pd"
   ]
  },
  {
   "cell_type": "code",
   "execution_count": 3,
   "metadata": {},
   "outputs": [
    {
     "data": {
      "image/png": "[encoded data removed]",
      "text/plain": [
       "<Figure size 800x800 with 1 Axes>"
      ]
     },
     "metadata": {},
     "output_type": "display_data"
    }
   ],
   "source": [
    "# TODO: draw the described plot\n",
    "sales_dict = {\n",
    "    'employees': ['malihe', 'sara', 'erfan', 'mosayeb', 'dena', 'hamze'], \n",
    "    'sales': [2502, 2880, 2713, 50, 2798, 3200]\n",
    "}\n",
    "\n",
    "sale_df = pd.DataFrame(sales_dict)\n",
    "sale_df.sort_values('sales', ascending=False, inplace=True)\n",
    "fig, ax = plt.subplots(figsize=(8,8)) \n",
    "ax.bar(sale_df.employees, sale_df.sales, color='pink', width=0.6);\n",
    "ax.set_ylabel('count');"
   ]
  },
  {
   "attachments": {},
   "cell_type": "markdown",
   "metadata": {},
   "source": [
    "<h2 align=right style=\"line-height:200%;font-family:vazir;color:#0099cc\">\n",
    "<font face=\"vazirmatn\" color=\"#0099cc\">\n",
    "<b>سلول جواب‌ساز</b>\n",
    "</font>\n",
    "</h2>\n",
    "\n",
    "\n",
    "<p dir=rtl style=\"direction: rtl; text-align: justify; line-height:200%; font-family:vazir; font-size:medium\">\n",
    "<font face=\"vazirmatn\" size=3>\n",
    "    برای ساخته‌شدن فایل <code>result.zip</code> سلول زیر را اجرا کنید. توجه داشته باشید که پیش از اجرای سلول زیر تغییرات اعمال شده در نت‌بوک را ذخیره کرده باشید (<code>ctrl+s</code>) تا در صورت نیاز به پشتیبانی امکان بررسی کد شما وجود داشته باشد.\n",
    "</font>\n",
    "</p>\n"
   ]
  },
  {
   "cell_type": "code",
   "execution_count": 4,
   "metadata": {},
   "outputs": [
    {
     "name": "stdout",
     "output_type": "stream",
     "text": [
      "File Paths:\n",
      "['fig', 'revolution_of_empire.ipynb']\n"
     ]
    }
   ],
   "source": [
    "import zipfile\n",
    "import joblib\n",
    "import json\n",
    "\n",
    "joblib.dump(fig,\"fig\")\n",
    "\n",
    "def compress(file_names):\n",
    "    print(\"File Paths:\")\n",
    "    print(file_names)\n",
    "    # Select the compression mode ZIP_DEFLATED for compression\n",
    "    # or zipfile.ZIP_STORED to just store the file\n",
    "    compression = zipfile.ZIP_DEFLATED\n",
    "    # create the zip file first parameter path/name, second mode\n",
    "    with zipfile.ZipFile(\"result.zip\", mode=\"w\") as zf:\n",
    "        for file_name in file_names:\n",
    "            # Add file to the zip file\n",
    "            # first parameter file to zip, second filename in zip\n",
    "            zf.write('./' + file_name, file_name, compress_type=compression)\n",
    "\n",
    "file_names = [\"fig\",'revolution_of_empire.ipynb']\n",
    "compress(file_names)"
   ]
  }
 ],
 "metadata": {
  "kernelspec": {
   "display_name": "Python 3",
   "language": "python",
   "name": "python3"
  },
  "language_info": {
   "codemirror_mode": {
    "name": "ipython",
    "version": 3
   },
   "file_extension": ".py",
   "mimetype": "text/x-python",
   "name": "python",
   "nbconvert_exporter": "python",
   "pygments_lexer": "ipython3",
   "version": "3.13.1"
  },
  "orig_nbformat": 4
 },
 "nbformat": 4,
 "nbformat_minor": 2
}
